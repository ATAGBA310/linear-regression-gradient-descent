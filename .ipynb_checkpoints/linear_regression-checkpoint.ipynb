{
 "cells": [
  {
   "cell_type": "code",
   "execution_count": 1,
   "id": "6cb9bb7a-3c55-4c8b-b1bb-4157aff9b502",
   "metadata": {},
   "outputs": [],
   "source": [
    "import numpy as np\n",
    "from sklearn.datasets import make_regression\n",
    "import matplotlib.pyplot as plt"
   ]
  },
  {
   "cell_type": "code",
   "execution_count": 3,
   "id": "9c3e71b9-cac2-4f12-9b3f-c7a78209a4c6",
   "metadata": {},
   "outputs": [
    {
     "data": {
      "text/plain": [
       "<matplotlib.collections.PathCollection at 0x1ce2b20f5c0>"
      ]
     },
     "execution_count": 3,
     "metadata": {},
     "output_type": "execute_result"
    },
    {
     "data": {
      "image/png": "[encoded data removed]",
      "text/plain": [
       "<Figure size 640x480 with 1 Axes>"
      ]
     },
     "metadata": {},
     "output_type": "display_data"
    }
   ],
   "source": [
    "x,y = make_regression(n_samples=100, n_features=1, noise=10)\n",
    "plt.scatter(x,y)"
   ]
  },
  {
   "cell_type": "code",
   "execution_count": 5,
   "id": "d370e34b-ad34-4387-bfee-547a00af0594",
   "metadata": {},
   "outputs": [
    {
     "name": "stdout",
     "output_type": "stream",
     "text": [
      "(100, 1)\n",
      "(100, 1)\n"
     ]
    }
   ],
   "source": [
    "print(x.shape)\n",
    "y = y.reshape(y.shape[0],1)\n",
    "print(y.shape)"
   ]
  },
  {
   "cell_type": "code",
   "execution_count": 7,
   "id": "c5b232e9-dd1c-42d4-9016-e677b7ade1a9",
   "metadata": {},
   "outputs": [
    {
     "data": {
      "text/plain": [
       "array([[ 8.08640174e-01,  1.00000000e+00],\n",
       "       [-2.44118430e-01,  1.00000000e+00],\n",
       "       [ 6.67356635e-01,  1.00000000e+00],\n",
       "       [-1.68310740e+00,  1.00000000e+00],\n",
       "       [-1.33875161e+00,  1.00000000e+00],\n",
       "       [-1.48061766e+00,  1.00000000e+00],\n",
       "       [ 8.10284960e-01,  1.00000000e+00],\n",
       "       [-4.94413003e-02,  1.00000000e+00],\n",
       "       [ 6.79345114e-01,  1.00000000e+00],\n",
       "       [-1.25135130e+00,  1.00000000e+00],\n",
       "       [-6.44506930e-01,  1.00000000e+00],\n",
       "       [ 2.47267662e-01,  1.00000000e+00],\n",
       "       [-5.68486479e-01,  1.00000000e+00],\n",
       "       [-1.87685649e+00,  1.00000000e+00],\n",
       "       [ 1.64059409e+00,  1.00000000e+00],\n",
       "       [-4.03712873e-01,  1.00000000e+00],\n",
       "       [ 1.89199896e-01,  1.00000000e+00],\n",
       "       [ 3.30428959e-01,  1.00000000e+00],\n",
       "       [-9.41021981e-01,  1.00000000e+00],\n",
       "       [-3.07936008e-01,  1.00000000e+00],\n",
       "       [ 2.83396549e-01,  1.00000000e+00],\n",
       "       [-2.82781011e+00,  1.00000000e+00],\n",
       "       [-1.02694238e+00,  1.00000000e+00],\n",
       "       [ 1.47120526e-01,  1.00000000e+00],\n",
       "       [ 8.14917589e-01,  1.00000000e+00],\n",
       "       [-1.30922443e+00,  1.00000000e+00],\n",
       "       [-2.53517160e-01,  1.00000000e+00],\n",
       "       [ 3.85255776e-01,  1.00000000e+00],\n",
       "       [ 2.86292360e-01,  1.00000000e+00],\n",
       "       [ 2.29052843e-02,  1.00000000e+00],\n",
       "       [-3.20445328e-01,  1.00000000e+00],\n",
       "       [ 6.59641719e-01,  1.00000000e+00],\n",
       "       [ 1.26804595e+00,  1.00000000e+00],\n",
       "       [ 3.40051059e-02,  1.00000000e+00],\n",
       "       [-4.15333348e-01,  1.00000000e+00],\n",
       "       [-1.30464302e+00,  1.00000000e+00],\n",
       "       [ 3.12516731e-01,  1.00000000e+00],\n",
       "       [ 7.47576644e-01,  1.00000000e+00],\n",
       "       [-1.09872990e-01,  1.00000000e+00],\n",
       "       [-9.28384815e-01,  1.00000000e+00],\n",
       "       [ 1.89849520e+00,  1.00000000e+00],\n",
       "       [ 1.07906377e+00,  1.00000000e+00],\n",
       "       [ 9.84355709e-02,  1.00000000e+00],\n",
       "       [ 1.29716796e+00,  1.00000000e+00],\n",
       "       [ 3.34487208e-01,  1.00000000e+00],\n",
       "       [-7.74272047e-01,  1.00000000e+00],\n",
       "       [ 1.06541054e+00,  1.00000000e+00],\n",
       "       [-1.72773667e-01,  1.00000000e+00],\n",
       "       [ 1.03794541e-01,  1.00000000e+00],\n",
       "       [ 6.08204900e-01,  1.00000000e+00],\n",
       "       [-1.02698786e+00,  1.00000000e+00],\n",
       "       [-1.80789367e+00,  1.00000000e+00],\n",
       "       [ 2.36006721e-01,  1.00000000e+00],\n",
       "       [ 5.37345817e-01,  1.00000000e+00],\n",
       "       [ 8.59760349e-01,  1.00000000e+00],\n",
       "       [-1.01073607e+00,  1.00000000e+00],\n",
       "       [ 5.03781194e-01,  1.00000000e+00],\n",
       "       [-1.90961915e-01,  1.00000000e+00],\n",
       "       [-6.45049338e-01,  1.00000000e+00],\n",
       "       [ 6.92502500e-03,  1.00000000e+00],\n",
       "       [-2.11900165e-01,  1.00000000e+00],\n",
       "       [ 3.48433539e-01,  1.00000000e+00],\n",
       "       [ 5.47084396e-01,  1.00000000e+00],\n",
       "       [-1.11244593e+00,  1.00000000e+00],\n",
       "       [-1.28521321e-01,  1.00000000e+00],\n",
       "       [-7.94548449e-01,  1.00000000e+00],\n",
       "       [-1.51275276e-01,  1.00000000e+00],\n",
       "       [-5.67918960e-01,  1.00000000e+00],\n",
       "       [ 3.19663912e-01,  1.00000000e+00],\n",
       "       [-9.81709013e-01,  1.00000000e+00],\n",
       "       [ 1.19709190e+00,  1.00000000e+00],\n",
       "       [ 1.23808257e+00,  1.00000000e+00],\n",
       "       [-4.39210116e-01,  1.00000000e+00],\n",
       "       [ 5.67803741e-01,  1.00000000e+00],\n",
       "       [ 3.54017794e-01,  1.00000000e+00],\n",
       "       [ 1.53716518e+00,  1.00000000e+00],\n",
       "       [-4.70733277e-01,  1.00000000e+00],\n",
       "       [-2.52139496e-01,  1.00000000e+00],\n",
       "       [-1.25780545e+00,  1.00000000e+00],\n",
       "       [-2.96462871e+00,  1.00000000e+00],\n",
       "       [-3.56017420e-02,  1.00000000e+00],\n",
       "       [-3.04354259e+00,  1.00000000e+00],\n",
       "       [ 1.86268894e+00,  1.00000000e+00],\n",
       "       [ 4.18114109e-01,  1.00000000e+00],\n",
       "       [ 7.62186276e-02,  1.00000000e+00],\n",
       "       [ 1.13506958e+00,  1.00000000e+00],\n",
       "       [-1.29801199e+00,  1.00000000e+00],\n",
       "       [-2.27684363e-01,  1.00000000e+00],\n",
       "       [-2.04708272e+00,  1.00000000e+00],\n",
       "       [-4.16513308e-02,  1.00000000e+00],\n",
       "       [ 1.03342559e+00,  1.00000000e+00],\n",
       "       [ 9.15664093e-01,  1.00000000e+00],\n",
       "       [ 1.73188977e-01,  1.00000000e+00],\n",
       "       [ 7.36185154e-01,  1.00000000e+00],\n",
       "       [-1.73825863e-01,  1.00000000e+00],\n",
       "       [ 8.01670774e-02,  1.00000000e+00],\n",
       "       [-1.48871263e-01,  1.00000000e+00],\n",
       "       [-6.87892140e-01,  1.00000000e+00],\n",
       "       [ 2.92032358e-04,  1.00000000e+00],\n",
       "       [-5.90744519e-02,  1.00000000e+00]])"
      ]
     },
     "execution_count": 7,
     "metadata": {},
     "output_type": "execute_result"
    }
   ],
   "source": [
    "#matrice\n",
    "X = np.hstack((x, np.ones(x.shape)))\n",
    "X"
   ]
  },
  {
   "cell_type": "code",
   "execution_count": 9,
   "id": "86d573f1-1e1c-4fbd-b8d6-37c29bf37a85",
   "metadata": {},
   "outputs": [
    {
     "data": {
      "text/plain": [
       "array([[ 1.19325337],\n",
       "       [-1.20998772]])"
      ]
     },
     "execution_count": 9,
     "metadata": {},
     "output_type": "execute_result"
    }
   ],
   "source": [
    "#VECTEUR \n",
    "theta = np.random.randn(2,1)\n",
    "theta"
   ]
  },
  {
   "cell_type": "code",
   "execution_count": 11,
   "id": "b2d917ad-a263-4d8c-ae34-8a3ac8315256",
   "metadata": {},
   "outputs": [],
   "source": [
    "#MODELE\n",
    "def model(X, theta):\n",
    "    return X.dot(theta)"
   ]
  },
  {
   "cell_type": "code",
   "execution_count": 13,
   "id": "f9a6b72c-e282-493e-b06d-1a2b42e2b497",
   "metadata": {},
   "outputs": [
    {
     "data": {
      "text/plain": [
       "array([[-0.24507511],\n",
       "       [-1.50128286],\n",
       "       [-0.41366217],\n",
       "       [-3.2183613 ],\n",
       "       [-2.8074576 ],\n",
       "       [-2.97673974],\n",
       "       [-0.24311246],\n",
       "       [-1.26898372],\n",
       "       [-0.39935688],\n",
       "       [-2.70316688],\n",
       "       [-1.97904779],\n",
       "       [-0.91493475],\n",
       "       [-1.88833613],\n",
       "       [-3.44955305],\n",
       "       [ 0.7476567 ],\n",
       "       [-1.69171947],\n",
       "       [-0.98422431],\n",
       "       [-0.81570226],\n",
       "       [-2.33286537],\n",
       "       [-1.5774334 ],\n",
       "       [-0.87182384],\n",
       "       [-4.58428167],\n",
       "       [-2.43539018],\n",
       "       [-1.03443566],\n",
       "       [-0.23758456],\n",
       "       [-2.77222418],\n",
       "       [-1.51249793],\n",
       "       [-0.75027997],\n",
       "       [-0.8683684 ],\n",
       "       [-1.18265592],\n",
       "       [-1.59236019],\n",
       "       [-0.42286802],\n",
       "       [ 0.30311237],\n",
       "       [-1.16941102],\n",
       "       [-1.70558564],\n",
       "       [-2.7667574 ],\n",
       "       [-0.83707608],\n",
       "       [-0.31793937],\n",
       "       [-1.34109404],\n",
       "       [-2.31778603],\n",
       "       [ 1.05539807],\n",
       "       [ 0.07760875],\n",
       "       [-1.09252915],\n",
       "       [ 0.33786231],\n",
       "       [-0.81085974],\n",
       "       [-2.13389045],\n",
       "       [ 0.061317  ],\n",
       "       [-1.41615048],\n",
       "       [-1.08613454],\n",
       "       [-0.48424518],\n",
       "       [-2.43544445],\n",
       "       [-3.36726293],\n",
       "       [-0.92837191],\n",
       "       [-0.56879802],\n",
       "       [-0.18407579],\n",
       "       [-2.41605194],\n",
       "       [-0.60884912],\n",
       "       [-1.43785367],\n",
       "       [-1.97969502],\n",
       "       [-1.20172441],\n",
       "       [-1.46283831],\n",
       "       [-0.79421823],\n",
       "       [-0.55717743],\n",
       "       [-2.53741758],\n",
       "       [-1.36334622],\n",
       "       [-2.15808534],\n",
       "       [-1.39049746],\n",
       "       [-1.88765894],\n",
       "       [-0.82854768],\n",
       "       [-2.38141531],\n",
       "       [ 0.21844622],\n",
       "       [ 0.26735847],\n",
       "       [-1.73407667],\n",
       "       [-0.532454  ],\n",
       "       [-0.7875548 ],\n",
       "       [ 0.6242398 ],\n",
       "       [-1.77169179],\n",
       "       [-1.51085403],\n",
       "       [-2.71086831],\n",
       "       [-4.74754092],\n",
       "       [-1.25246962],\n",
       "       [-4.84170518],\n",
       "       [ 1.01267213],\n",
       "       [-0.71107165],\n",
       "       [-1.11903959],\n",
       "       [ 0.14443787],\n",
       "       [-2.7588449 ],\n",
       "       [-1.48167286],\n",
       "       [-3.65267608],\n",
       "       [-1.25968831],\n",
       "       [ 0.02315085],\n",
       "       [-0.11736846],\n",
       "       [-1.00332939],\n",
       "       [-0.33153231],\n",
       "       [-1.41740602],\n",
       "       [-1.11432809],\n",
       "       [-1.38762886],\n",
       "       [-2.03081734],\n",
       "       [-1.20963926],\n",
       "       [-1.28047851]])"
      ]
     },
     "execution_count": 13,
     "metadata": {},
     "output_type": "execute_result"
    }
   ],
   "source": [
    "model(X,theta)"
   ]
  },
  {
   "cell_type": "code",
   "execution_count": 15,
   "id": "66fa916b-a6d0-4de3-9298-5cd4613ba242",
   "metadata": {},
   "outputs": [
    {
     "data": {
      "text/plain": [
       "[<matplotlib.lines.Line2D at 0x1ce2cf75700>]"
      ]
     },
     "execution_count": 15,
     "metadata": {},
     "output_type": "execute_result"
    },
    {
     "data": {
      "image/png": "[encoded data removed]",
      "text/plain": [
       "<Figure size 640x480 with 1 Axes>"
      ]
     },
     "metadata": {},
     "output_type": "display_data"
    }
   ],
   "source": [
    "plt.plot(x, model(X,theta))"
   ]
  },
  {
   "cell_type": "code",
   "execution_count": 17,
   "id": "43dfa56d-b675-4537-af6a-febb478c41b1",
   "metadata": {},
   "outputs": [
    {
     "data": {
      "text/plain": [
       "[<matplotlib.lines.Line2D at 0x1ce2cfeb020>]"
      ]
     },
     "execution_count": 17,
     "metadata": {},
     "output_type": "execute_result"
    },
    {
     "data": {
      "image/png": "[encoded data removed]",
      "text/plain": [
       "<Figure size 640x480 with 1 Axes>"
      ]
     },
     "metadata": {},
     "output_type": "display_data"
    }
   ],
   "source": [
    "plt.scatter(x,y)\n",
    "plt.plot(x, model(X,theta), c=\"r\")"
   ]
  },
  {
   "cell_type": "code",
   "execution_count": 19,
   "id": "1a06c1ab-913e-4251-b98b-aa31e02cb87f",
   "metadata": {},
   "outputs": [],
   "source": [
    "#fonction cout\n",
    "def cost_function(X, y, theta):\n",
    "    m=len(y)\n",
    "    return 1/(2*m) * np.sum((model(X, theta)- y)**2)"
   ]
  },
  {
   "cell_type": "code",
   "execution_count": 21,
   "id": "625f9c08-b29c-4fd4-9c7f-ced5bfe38e1a",
   "metadata": {},
   "outputs": [
    {
     "data": {
      "text/plain": [
       "4610.577445650508"
      ]
     },
     "execution_count": 21,
     "metadata": {},
     "output_type": "execute_result"
    }
   ],
   "source": [
    "cost_function(X, y, theta)"
   ]
  },
  {
   "cell_type": "code",
   "execution_count": 23,
   "id": "bded7287-baab-47b8-a56f-bd93bf89496e",
   "metadata": {},
   "outputs": [],
   "source": [
    "#gradients et descente de gradient\n",
    "def grad(X, y, theta):\n",
    "    m= len(y)\n",
    "    return 1/m*X.T.dot(model(X, theta)- y)"
   ]
  },
  {
   "cell_type": "code",
   "execution_count": 25,
   "id": "b7c5fd23-b144-42db-b325-cbf2b2f32a82",
   "metadata": {},
   "outputs": [],
   "source": [
    "def gradient_descent(X, y, theta, learning_rate, n_iterations):\n",
    "    cost_history = np.zeros(n_iterations)\n",
    "    for i in range (0, n_iterations):\n",
    "        theta = theta - learning_rate * grad (X, y, theta)\n",
    "        cost_history[i]= cost_function(X, y, theta)\n",
    "    return theta, cost_history"
   ]
  },
  {
   "cell_type": "code",
   "execution_count": 27,
   "id": "c6ab52d2-4343-467d-ba61-eae1efe40e07",
   "metadata": {},
   "outputs": [],
   "source": [
    "#machine learning\n",
    "theta_final, cost_history = gradient_descent(X, y, theta, learning_rate=0.01, n_iterations= 1000)"
   ]
  },
  {
   "cell_type": "code",
   "execution_count": 29,
   "id": "b908214e-26d5-429d-a690-76cfeb040816",
   "metadata": {},
   "outputs": [
    {
     "data": {
      "text/plain": [
       "array([[99.01987855],\n",
       "       [ 0.4731554 ]])"
      ]
     },
     "execution_count": 29,
     "metadata": {},
     "output_type": "execute_result"
    }
   ],
   "source": [
    "theta_final"
   ]
  },
  {
   "cell_type": "code",
   "execution_count": 31,
   "id": "6b7c6ad7-420a-4126-8c72-61f15dac4010",
   "metadata": {},
   "outputs": [
    {
     "data": {
      "text/plain": [
       "[<matplotlib.lines.Line2D at 0x1ce2d03b9e0>]"
      ]
     },
     "execution_count": 31,
     "metadata": {},
     "output_type": "execute_result"
    },
    {
     "data": {
      "image/png": "[encoded data removed]",
      "text/plain": [
       "<Figure size 640x480 with 1 Axes>"
      ]
     },
     "metadata": {},
     "output_type": "display_data"
    }
   ],
   "source": [
    "predictions = model(X, theta_final)\n",
    "plt.scatter(x,y)\n",
    "plt.plot(x, predictions, c='r')"
   ]
  },
  {
   "cell_type": "code",
   "execution_count": 33,
   "id": "c52e322c-e31a-4219-9021-99e1d85a66e8",
   "metadata": {},
   "outputs": [
    {
     "data": {
      "text/plain": [
       "[<matplotlib.lines.Line2D at 0x1ce2cf05550>]"
      ]
     },
     "execution_count": 33,
     "metadata": {},
     "output_type": "execute_result"
    },
    {
     "data": {
      "image/png": "[encoded data removed]",
      "text/plain": [
       "<Figure size 640x480 with 1 Axes>"
      ]
     },
     "metadata": {},
     "output_type": "display_data"
    }
   ],
   "source": [
    "plt.plot(range(1000), cost_history)"
   ]
  },
  {
   "cell_type": "code",
   "execution_count": 35,
   "id": "dcec8b89-b926-4ce2-8e96-99e3abffc168",
   "metadata": {},
   "outputs": [],
   "source": [
    "#coefficent de determination\n",
    "def coef_determination(y, pred):\n",
    "    u = ((y - pred)**2).sum()\n",
    "    v = ((y - y.mean())**2).sum()\n",
    "    return 1- u/v"
   ]
  },
  {
   "cell_type": "code",
   "execution_count": 37,
   "id": "b10757c1-6e51-4557-aa57-3661e07c4fa3",
   "metadata": {},
   "outputs": [
    {
     "data": {
      "text/plain": [
       "0.9904200165604324"
      ]
     },
     "execution_count": 37,
     "metadata": {},
     "output_type": "execute_result"
    }
   ],
   "source": [
    "coef_determination(y, predictions)"
   ]
  },
  {
   "cell_type": "code",
   "execution_count": null,
   "id": "91ff2a95-9951-410f-83b9-06dcda52dd99",
   "metadata": {},
   "outputs": [],
   "source": []
  }
 ],
 "metadata": {
  "kernelspec": {
   "display_name": "Python [conda env:base] *",
   "language": "python",
   "name": "conda-base-py"
  },
  "language_info": {
   "codemirror_mode": {
    "name": "ipython",
    "version": 3
   },
   "file_extension": ".py",
   "mimetype": "text/x-python",
   "name": "python",
   "nbconvert_exporter": "python",
   "pygments_lexer": "ipython3",
   "version": "3.12.7"
  }
 },
 "nbformat": 4,
 "nbformat_minor": 5
}
